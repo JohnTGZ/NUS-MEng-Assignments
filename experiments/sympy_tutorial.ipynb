{
 "cells": [
  {
   "cell_type": "code",
   "execution_count": 49,
   "metadata": {},
   "outputs": [
    {
     "name": "stdout",
     "output_type": "stream",
     "text": [
      "Cost c_0:  57*a**2 - 255*a*b/4 + 258*a*c/7 - 21*a*d + 66*a*e/5 + 129*b**2/7 - 21*b*c + 66*b*d/5 - 15*b*e/2 + 33*c**2/5 - 15*c*d/2 + 6*c*e + 3*d**2 - 3*d*e + 3*e**2\n",
      "Cost c_1:  a*(a*W[0, 0] + b*W[1, 0] + c*W[2, 0] + d*W[3, 0] + e*W[4, 0]) + b*(a*W[0, 1] + b*W[1, 1] + c*W[2, 1] + d*W[3, 1] + e*W[4, 1]) + c*(a*W[0, 2] + b*W[1, 2] + c*W[2, 2] + d*W[3, 2] + e*W[4, 2]) + d*(a*W[0, 3] + b*W[1, 3] + c*W[2, 3] + d*W[3, 3] + e*W[4, 3]) + e*(a*W[0, 4] + b*W[1, 4] + c*W[2, 4] + d*W[3, 4] + e*W[4, 4])\n"
     ]
    }
   ],
   "source": [
    "import sympy as sym\n",
    "from sympy import symbols, integrate, Matrix, MatrixSymbol, Eq, solve\n",
    "from sympy import init_printing\n",
    "init_printing(use_unicode=True) \n",
    "\n",
    "# Can do `expand` or `factor`\n",
    "# Calculus: `diff` or `integrate`\n",
    "\n",
    "a, b, c, d, e, x  = symbols('a, b, c, d, e, x')\n",
    "\n",
    "# Get equation c_0\n",
    "g_x = a*(x**4) + b*(x**3) + c*(x**2) + d*(x) + e\n",
    "c_0 = integrate(g_x**2, (x, -2, 1))\n",
    "print(\"Cost c_0: \",  c_0)\n",
    "\n",
    "# Get equation c_1\n",
    "# Form x matrix and weights matrix\n",
    "x_mat = Matrix([[a, b, c, d, e]])\n",
    "W = MatrixSymbol('W', 5, 5).as_explicit()\n",
    "\n",
    "c_1 = x_mat * W * x_mat.transpose()\n",
    "print(\"Cost c_1: \",  c_1[0])\n",
    "\n"
   ]
  },
  {
   "cell_type": "code",
   "execution_count": 63,
   "metadata": {},
   "outputs": [
    {
     "name": "stdout",
     "output_type": "stream",
     "text": [
      "c_0_poly:  Poly(57*a**2 - 255/4*a*b + 258/7*a*c - 21*a*d + 66/5*a*e + 129/7*b**2 - 21*b*c + 66/5*b*d - 15/2*b*e + 33/5*c**2 - 15/2*c*d + 6*c*e + 3*d**2 - 3*d*e + 3*e**2, a, b, c, d, e, domain='QQ')\n",
      "c_1_poly:  Poly(W[0, 0]*a**2 + (W[0, 1] + W[1, 0])*a*b + (W[0, 2] + W[2, 0])*a*c + (W[0, 3] + W[3, 0])*a*d + (W[0, 4] + W[4, 0])*a*e + W[1, 1]*b**2 + (W[1, 2] + W[2, 1])*b*c + (W[1, 3] + W[3, 1])*b*d + (W[1, 4] + W[4, 1])*b*e + W[2, 2]*c**2 + (W[2, 3] + W[3, 2])*c*d + (W[2, 4] + W[4, 2])*c*e + W[3, 3]*d**2 + (W[3, 4] + W[4, 3])*d*e + W[4, 4]*e**2, a, b, c, d, e, domain='EX')\n",
      "c_0_coeffs:  [57, -255/4, 258/7, -21, 66/5, 129/7, -21, 66/5, -15/2, 33/5, -15/2, 6, 3, -3, 3]\n",
      "c_1_coeffs:  [W[0, 0], W[0, 1] + W[1, 0], W[0, 2] + W[2, 0], W[0, 3] + W[3, 0], W[0, 4] + W[4, 0], W[1, 1], W[1, 2] + W[2, 1], W[1, 3] + W[3, 1], W[1, 4] + W[4, 1], W[2, 2], W[2, 3] + W[3, 2], W[2, 4] + W[4, 2], W[3, 3], W[3, 4] + W[4, 3], W[4, 4]]\n",
      "c_0_coeffs:  15\n",
      "c_1_coeffs:  15\n",
      "W_sys_eqns:  W[0, 0] - 57\n"
     ]
    },
    {
     "data": {
      "image/png": "[encoded data removed]",
      "text/latex": [
       "$\\displaystyle \\left[ \\left\\{ W_{0, 1} + W_{1, 0} : - \\frac{255}{4}, \\  W_{0, 2} + W_{2, 0} : \\frac{258}{7}, \\  W_{0, 3} + W_{3, 0} : -21, \\  W_{0, 4} + W_{4, 0} : \\frac{66}{5}, \\  W_{1, 2} + W_{2, 1} : -21, \\  W_{1, 3} + W_{3, 1} : \\frac{66}{5}, \\  W_{1, 4} + W_{4, 1} : - \\frac{15}{2}, \\  W_{2, 3} + W_{3, 2} : - \\frac{15}{2}, \\  W_{2, 4} + W_{4, 2} : 6, \\  W_{3, 4} + W_{4, 3} : -3, \\  W_{0, 0} : 57, \\  W_{1, 1} : \\frac{129}{7}, \\  W_{2, 2} : \\frac{33}{5}, \\  W_{3, 3} : 3, \\  W_{4, 4} : 3\\right\\}\\right]$"
      ],
      "text/plain": [
       "[{W₀₁ + W₁₀: -255/4, W₀₂ + W₂₀: 258/7, W₀₃ + W₃₀: -21, W₀₄ + W₄₀: 66/5, W₁₂ + \n",
       "W₂₁: -21, W₁₃ + W₃₁: 66/5, W₁₄ + W₄₁: -15/2, W₂₃ + W₃₂: -15/2, W₂₄ + W₄₂: 6, W\n",
       "₃₄ + W₄₃: -3, W₀₀: 57, W₁₁: 129/7, W₂₂: 33/5, W₃₃: 3, W₄₄: 3}]"
      ]
     },
     "execution_count": 63,
     "metadata": {},
     "output_type": "execute_result"
    }
   ],
   "source": [
    "c_0_poly = sym.poly(c_0, a, b, c, d, e)\n",
    "c_1_poly = sym.poly(c_1[0], a, b, c, d, e)\n",
    "\n",
    "print(\"c_0_poly: \", c_0_poly)\n",
    "print(\"c_1_poly: \", c_1_poly)\n",
    "\n",
    "c_0_coeffs = c_0_poly.coeffs()\n",
    "c_1_coeffs = c_1_poly.coeffs()\n",
    "\n",
    "print(\"c_0_coeffs: \", c_0_coeffs)\n",
    "print(\"c_1_coeffs: \", c_1_coeffs)\n",
    "\n",
    "print(\"c_0_coeffs: \", len(c_0_coeffs))\n",
    "print(\"c_1_coeffs: \", len(c_1_coeffs))\n",
    "\n",
    "W_sys_eqns = Matrix(c_1_coeffs) - Matrix(c_0_coeffs) \n",
    "\n",
    "print(\"W_sys_eqns: \", W_sys_eqns[0])\n",
    "\n",
    "solve(W_sys_eqns, c_1_coeffs, dict=True)\n",
    "\n",
    "W = Matrix([\n",
    "  [57,      -255/8,   129/7,    -21/2,    33/5],\n",
    "  [-255/8,  129/7,    -21/2,    33/5,     -15/4,],\n",
    "  [129/7,   -21/2,    33/5,     -15/4,    3],\n",
    "  [-21/2,    33/5,    -15/4,     3,       -3/2],\n",
    "  [33/5,    -15/4,    3,        -3/2,     3],\n",
    "])\n",
    "\n",
    "# for coeff in c_0_coeffs:"
   ]
  },
  {
   "cell_type": "code",
   "execution_count": 59,
   "metadata": {},
   "outputs": [
    {
     "name": "stdout",
     "output_type": "stream",
     "text": [
      "W[0, 1] + W[1, 0]\n"
     ]
    }
   ],
   "source": [
    "print(c_1_coeffs[1])"
   ]
  },
  {
   "cell_type": "code",
   "execution_count": 43,
   "metadata": {},
   "outputs": [
    {
     "data": {
      "text/latex": [
       "$\\displaystyle \\left[\\begin{matrix}y\\end{matrix}\\right]$"
      ],
      "text/plain": [
       "Matrix([[y]])"
      ]
     },
     "execution_count": 43,
     "metadata": {},
     "output_type": "execute_result"
    }
   ],
   "source": [
    "from sympy.abc import x, y\n",
    "from sympy import SparseMatrix, Matrix\n",
    "\n",
    "_ = SparseMatrix(1, 1, [x])\n",
    "#Matrix([[x]])\n",
    "\n",
    "_.subs(x, y)\n",
    "#Matrix([[y]])\n",
    "\n",
    "# Matrix(_).subs(y, x)\n",
    "#Matrix([[x]])"
   ]
  },
  {
   "cell_type": "code",
   "execution_count": 40,
   "metadata": {},
   "outputs": [
    {
     "data": {
      "text/latex": [
       "$\\displaystyle \\operatorname{Poly}{\\left( 57 a^{2} -  \\frac{255}{4} ab + \\frac{258}{7} ac - 21 ad + \\frac{66}{5} ae + \\frac{129}{7} b^{2} - 21 bc + \\frac{66}{5} bd -  \\frac{15}{2} be + \\frac{33}{5} c^{2} -  \\frac{15}{2} cd + 6 ce + 3 d^{2} - 3 de + 3 e^{2}, a, b, c, d, e, domain=\\mathbb{Q} \\right)}$"
      ],
      "text/plain": [
       "Poly(57*a**2 - 255/4*a*b + 258/7*a*c - 21*a*d + 66/5*a*e + 129/7*b**2 - 21*b*c + 66/5*b*d - 15/2*b*e + 33/5*c**2 - 15/2*c*d + 6*c*e + 3*d**2 - 3*d*e + 3*e**2, a, b, c, d, e, domain='QQ')"
      ]
     },
     "execution_count": 40,
     "metadata": {},
     "output_type": "execute_result"
    }
   ],
   "source": [
    "c_0_poly"
   ]
  },
  {
   "cell_type": "code",
   "execution_count": 39,
   "metadata": {},
   "outputs": [
    {
     "data": {
      "text/plain": [
       "[57,\n",
       " -255/4,\n",
       " 258/7,\n",
       " -21,\n",
       " 66/5,\n",
       " 129/7,\n",
       " -21,\n",
       " 66/5,\n",
       " -15/2,\n",
       " 33/5,\n",
       " -15/2,\n",
       " 6,\n",
       " 3,\n",
       " -3,\n",
       " 3]"
      ]
     },
     "execution_count": 39,
     "metadata": {},
     "output_type": "execute_result"
    }
   ],
   "source": [
    "c_0_coeffs"
   ]
  },
  {
   "cell_type": "code",
   "execution_count": 19,
   "metadata": {},
   "outputs": [
    {
     "data": {
      "text/plain": [
       "[{x: -sqrt(y)}, {x: sqrt(y)}]"
      ]
     },
     "execution_count": 19,
     "metadata": {},
     "output_type": "execute_result"
    }
   ],
   "source": [
    "from sympy.abc import x,y\n",
    "from sympy import solve\n",
    "\n",
    "solve(x**2 - y, x, dict=True)\n"
   ]
  },
  {
   "cell_type": "code",
   "execution_count": null,
   "metadata": {},
   "outputs": [],
   "source": []
  }
 ],
 "metadata": {
  "kernelspec": {
   "display_name": "Python 3",
   "language": "python",
   "name": "python3"
  },
  "language_info": {
   "codemirror_mode": {
    "name": "ipython",
    "version": 3
   },
   "file_extension": ".py",
   "mimetype": "text/x-python",
   "name": "python",
   "nbconvert_exporter": "python",
   "pygments_lexer": "ipython3",
   "version": "3.8.10"
  },
  "orig_nbformat": 4
 },
 "nbformat": 4,
 "nbformat_minor": 2
}
