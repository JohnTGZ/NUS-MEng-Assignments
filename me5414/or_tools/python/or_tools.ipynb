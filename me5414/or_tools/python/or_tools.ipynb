{
 "cells": [
  {
   "cell_type": "code",
   "execution_count": 3,
   "metadata": {},
   "outputs": [
    {
     "name": "stdout",
     "output_type": "stream",
     "text": [
      "Number of variables = 2\n",
      "Number of constraints = 3\n",
      "Solving with Glop solver v9.9.3963\n",
      "Solution:\n",
      "Objective value = 34.0\n",
      "x = 6.0\n",
      "y = 4.0\n",
      "\n",
      "Advanced usage:\n",
      "Problem solved in 0 milliseconds\n",
      "Problem solved in 2 iterations\n"
     ]
    }
   ],
   "source": [
    "from ortools.linear_solver import pywraplp\n",
    "\n",
    "\n",
    "def LinearProgrammingExample():\n",
    "    \"\"\"Linear programming sample.\"\"\"\n",
    "    # Instantiate a Glop solver, naming it LinearExample.\n",
    "    solver = pywraplp.Solver.CreateSolver(\"GLOP\")\n",
    "    if not solver:\n",
    "        return\n",
    "\n",
    "    # Create the two variables and let them take on any non-negative value.\n",
    "    x = solver.NumVar(0, solver.infinity(), \"x\")\n",
    "    y = solver.NumVar(0, solver.infinity(), \"y\")\n",
    "\n",
    "    print(\"Number of variables =\", solver.NumVariables())\n",
    "\n",
    "    # Constraint 0: x + 2y <= 14.\n",
    "    solver.Add(x + 2 * y <= 14.0)\n",
    "\n",
    "    # Constraint 1: 3x - y >= 0.\n",
    "    solver.Add(3 * x - y >= 0.0)\n",
    "\n",
    "    # Constraint 2: x - y <= 2.\n",
    "    solver.Add(x - y <= 2.0)\n",
    "\n",
    "    print(\"Number of constraints =\", solver.NumConstraints())\n",
    "\n",
    "    # Objective function: 3x + 4y.\n",
    "    solver.Maximize(3 * x + 4 * y)\n",
    "\n",
    "    # Solve the system.\n",
    "    print(f\"Solving with {solver.SolverVersion()}\")\n",
    "    status = solver.Solve()\n",
    "\n",
    "    if status == pywraplp.Solver.OPTIMAL:\n",
    "        print(\"Solution:\")\n",
    "        print(f\"Objective value = {solver.Objective().Value():0.1f}\")\n",
    "        print(f\"x = {x.solution_value():0.1f}\")\n",
    "        print(f\"y = {y.solution_value():0.1f}\")\n",
    "    else:\n",
    "        print(\"The problem does not have an optimal solution.\")\n",
    "\n",
    "    print(\"\\nAdvanced usage:\")\n",
    "    print(f\"Problem solved in {solver.wall_time():d} milliseconds\")\n",
    "    print(f\"Problem solved in {solver.iterations():d} iterations\")\n",
    "\n",
    "\n",
    "LinearProgrammingExample()"
   ]
  },
  {
   "cell_type": "code",
   "execution_count": 9,
   "metadata": {},
   "outputs": [
    {
     "ename": "NameError",
     "evalue": "name '__file__' is not defined",
     "output_type": "error",
     "traceback": [
      "\u001b[0;31m---------------------------------------------------------------------------\u001b[0m",
      "\u001b[0;31mNameError\u001b[0m                                 Traceback (most recent call last)",
      "Cell \u001b[0;32mIn[9], line 39\u001b[0m\n\u001b[1;32m     36\u001b[0m   solver\u001b[38;5;241m.\u001b[39msolve(model)\n\u001b[1;32m     38\u001b[0m \u001b[38;5;28;01mif\u001b[39;00m \u001b[38;5;18m__name__\u001b[39m \u001b[38;5;241m==\u001b[39m \u001b[38;5;124m\"\u001b[39m\u001b[38;5;124m__main__\u001b[39m\u001b[38;5;124m\"\u001b[39m:\n\u001b[0;32m---> 39\u001b[0m    \u001b[43mmain\u001b[49m\u001b[43m(\u001b[49m\u001b[43m)\u001b[49m\n",
      "Cell \u001b[0;32mIn[9], line 6\u001b[0m, in \u001b[0;36mmain\u001b[0;34m()\u001b[0m\n\u001b[1;32m      4\u001b[0m \u001b[38;5;28;01mdef\u001b[39;00m \u001b[38;5;21mmain\u001b[39m():\n\u001b[1;32m      5\u001b[0m   solver_name \u001b[38;5;241m=\u001b[39m \u001b[38;5;124m'\u001b[39m\u001b[38;5;124mGLOP\u001b[39m\u001b[38;5;124m'\u001b[39m\n\u001b[0;32m----> 6\u001b[0m   path \u001b[38;5;241m=\u001b[39m os\u001b[38;5;241m.\u001b[39mpath\u001b[38;5;241m.\u001b[39mdirname(\u001b[38;5;18;43m__file__\u001b[39;49m)\n\u001b[1;32m      7\u001b[0m   mps_path \u001b[38;5;241m=\u001b[39m \u001b[38;5;124mf\u001b[39m\u001b[38;5;124m\"\u001b[39m\u001b[38;5;132;01m{\u001b[39;00mpath\u001b[38;5;132;01m}\u001b[39;00m\u001b[38;5;124m/maros-r7.mps\u001b[39m\u001b[38;5;124m\"\u001b[39m\n\u001b[1;32m      9\u001b[0m   \u001b[38;5;28mprint\u001b[39m(mps_path)\n",
      "\u001b[0;31mNameError\u001b[0m: name '__file__' is not defined"
     ]
    }
   ],
   "source": [
    "import os\n",
    "from ortools.linear_solver.python import model_builder\n",
    "\n",
    "def main():\n",
    "  solver_name = 'GLOP'\n",
    "  path = os.path.dirname(__file__)\n",
    "  mps_path = f\"{path}/maros-r7.mps\"\n",
    "  \n",
    "  print(mps_path)\n",
    "\n",
    "  # mps_path = '/home/john/repos/homework/me5414/maros-r7.mps'\n",
    "  # mps_path = 'maros-r7.mps'\n",
    "\n",
    "  solver = pywraplp.Solver.CreateSolver(\"GLOP\")\n",
    "  model = model_builder.ModelBuilder()\n",
    "\n",
    "  # Load MPS file.\n",
    "  if not model.import_from_mps_file(mps_path):\n",
    "      print(f'Cannot import MPS file: \\'{mps_path}\\'')\n",
    "      return\n",
    "\n",
    "  # Create solver.\n",
    "  solver = model_builder.ModelSolver(solver_name)\n",
    "  if not solver.solver_is_supported():\n",
    "      print(f'Cannot create solver with name \\'{solver_name}\\'')\n",
    "      return\n",
    "\n",
    "  # # Set parameters.\n",
    "  # if _PARAMS.value:\n",
    "  #     solver.set_solver_specific_parameters(_PARAMS.value)\n",
    "\n",
    "  # Enable the output of the solver.\n",
    "  solver.enable_output(True)\n",
    "\n",
    "  # And solve.\n",
    "  solver.solve(model)\n",
    "\n",
    "if __name__ == \"__main__\":\n",
    "   main()"
   ]
  }
 ],
 "metadata": {
  "kernelspec": {
   "display_name": "Python 3",
   "language": "python",
   "name": "python3"
  },
  "language_info": {
   "codemirror_mode": {
    "name": "ipython",
    "version": 3
   },
   "file_extension": ".py",
   "mimetype": "text/x-python",
   "name": "python",
   "nbconvert_exporter": "python",
   "pygments_lexer": "ipython3",
   "version": "3.8.10"
  }
 },
 "nbformat": 4,
 "nbformat_minor": 2
}
