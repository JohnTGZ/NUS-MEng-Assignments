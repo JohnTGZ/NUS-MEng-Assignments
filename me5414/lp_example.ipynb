{
 "cells": [
  {
   "cell_type": "markdown",
   "metadata": {},
   "source": [
    "# Tutorial\n",
    "\n",
    "max   z = x + 2y\n",
    "s.t.  2x + y    <= 20 \n",
    "      -4x + 5y  <= 10 \n",
    "      -x + 2y   => -2\n",
    "      -x + 5y   = 15\n",
    "      x         >= 0\n",
    "      y         >= 0 "
   ]
  },
  {
   "cell_type": "markdown",
   "metadata": {},
   "source": [
    "# Scipy Tutorial"
   ]
  },
  {
   "cell_type": "code",
   "execution_count": 71,
   "metadata": {},
   "outputs": [
    {
     "name": "stderr",
     "output_type": "stream",
     "text": [
      "/tmp/ipykernel_6573/3567985443.py:25: DeprecationWarning: `method='revised simplex'` is deprecated and will be removed in SciPy 1.11.0. Please use one of the HiGHS solvers (e.g. `method='highs'`) in new code.\n",
      "  opt = linprog(c=obj,\n"
     ]
    },
    {
     "data": {
      "text/plain": [
       " message: Optimization terminated successfully.\n",
       " success: True\n",
       "  status: 0\n",
       "     fun: -20.714285714285715\n",
       "       x: [ 6.429e+00  7.143e+00]\n",
       "     nit: 2"
      ]
     },
     "execution_count": 71,
     "metadata": {},
     "output_type": "execute_result"
    }
   ],
   "source": [
    "import numpy as np\n",
    "from scipy.optimize import linprog\n",
    "import matplotlib.pyplot as plt\n",
    "\n",
    "# Objective function: Minimize -z = -x - 2y\n",
    "obj = [-1, -2]\n",
    "\n",
    "# Inequality constraints\n",
    "lhs_ineq = [[ 2,   1],\n",
    "            [-4,   5],\n",
    "            [ 1,  -2]]\n",
    "rhs_ineq = [20, \n",
    "            10, \n",
    "             2] \n",
    "\n",
    "# Equality constraints\n",
    "lhs_eq = [[-1, 5]] \n",
    "rhs_eq = [15]\n",
    "\n",
    "# Bounds \n",
    "bnd = [(0, float(\"inf\")), # Bounds of x\n",
    "       (0, float(\"inf\"))] # Bounds of y\n",
    "\n",
    "# Optimize problem\n",
    "opt = linprog(c=obj, \n",
    "              A_ub=lhs_ineq, b_ub=rhs_ineq,\n",
    "              # A_eq=lhs_eq,   b_eq=rhs_eq,\n",
    "              bounds=bnd,\n",
    "              method=\"revised simplex\")\n",
    "\n",
    "opt\n"
   ]
  },
  {
   "cell_type": "code",
   "execution_count": 72,
   "metadata": {},
   "outputs": [
    {
     "data": {
      "image/png": "[encoded data removed]",
      "text/plain": [
       "<Figure size 640x480 with 1 Axes>"
      ]
     },
     "metadata": {},
     "output_type": "display_data"
    }
   ],
   "source": [
    "from sympy import symbols, Eq, plot, plot_implicit, And\n",
    "\n",
    "x, y = symbols('x y')\n",
    "p1 = plot(show=False, xlim=(0,10), ylim=(0,10), markers=[{'args': [opt.x[0], opt.x[1], 'go'], 'ms': 20}])\n",
    "\n",
    "p1.extend(plot_implicit(And(x > 0, y > 0), (x,0,10), (y,0,10), show=False, line_color='gray'))\n",
    "\n",
    "p1.extend(plot_implicit(2*x + y >= 20, (x,0,10), (y,0,10), show=False, line_color='red'))\n",
    "p1.extend(plot_implicit(-4*x + 5*y >= 10, (x,0,10), (y,0,10), show=False, line_color='blue'))\n",
    "p1.extend(plot_implicit(-x + 2*y <= -2, (x,0,10), (y,0,10), show=False, line_color='yellow'))\n",
    "\n",
    "p1.extend(plot_implicit(Eq(-x + 5*y, 15), (x,0,10), (y,0,10), show=False, line_color='green'))\n",
    "\n",
    "p1.show()"
   ]
  },
  {
   "cell_type": "markdown",
   "metadata": {},
   "source": [
    "# PuLP Tutorial"
   ]
  },
  {
   "cell_type": "code",
   "execution_count": 83,
   "metadata": {},
   "outputs": [
    {
     "data": {
      "text/plain": [
       "small-problem:\n",
       "MAXIMIZE\n",
       "1*x + 2*y + 0\n",
       "SUBJECT TO\n",
       "red_constraint: 2 x + y <= 20\n",
       "\n",
       "blue_constraint: 4 x - 5 y >= -10\n",
       "\n",
       "yellow_constraint: - x + 2 y >= -2\n",
       "\n",
       "green_constraint: - x + 5 y = 15\n",
       "\n",
       "VARIABLES\n",
       "x Continuous\n",
       "y Continuous"
      ]
     },
     "execution_count": 83,
     "metadata": {},
     "output_type": "execute_result"
    }
   ],
   "source": [
    "from pulp import LpMaximize, LpProblem, LpStatus, lpSum, LpVariable\n",
    "\n",
    "# Create the model\n",
    "model = LpProblem(name=\"small-problem\", sense = LpMaximize)\n",
    "\n",
    "# Initialize the decision variables\n",
    "x = LpVariable(name=\"x\", lowBound=0)\n",
    "y = LpVariable(name=\"y\", lowBound=0)\n",
    "\n",
    "# Add the constraints to the model\n",
    "model += (2 * x + y <= 20, \"red_constraint\")\n",
    "model += (4 * x - 5 * y >= -10, \"blue_constraint\")\n",
    "model += (-x + 2 * y >= -2, \"yellow_constraint\")\n",
    "model += (-x + 5 * y == 15, \"green_constraint\")\n",
    "\n",
    "# Add objective function to model\n",
    "obj_func = x + 2 * y\n",
    "model += obj_func\n",
    "\n",
    "model"
   ]
  },
  {
   "cell_type": "code",
   "execution_count": 84,
   "metadata": {},
   "outputs": [
    {
     "name": "stdout",
     "output_type": "stream",
     "text": [
      "Welcome to the CBC MILP Solver \n",
      "Version: 2.10.3 \n",
      "Build Date: Dec 15 2019 \n",
      "\n",
      "command line - /home/john/.local/lib/python3.8/site-packages/pulp/solverdir/cbc/linux/64/cbc /tmp/87a3ddc81d7f4a8f8bc7c86d85b45be3-pulp.mps -max -timeMode elapsed -branch -printingOptions all -solution /tmp/87a3ddc81d7f4a8f8bc7c86d85b45be3-pulp.sol (default strategy 1)\n",
      "At line 2 NAME          MODEL\n",
      "At line 3 ROWS\n",
      "At line 9 COLUMNS\n",
      "At line 20 RHS\n",
      "At line 25 BOUNDS\n",
      "At line 26 ENDATA\n",
      "Problem MODEL has 4 rows, 2 columns and 8 elements\n",
      "Coin0008I MODEL read with 0 errors\n",
      "Option for timeMode changed from cpu to elapsed\n",
      "Presolve 0 (-4) rows, 0 (-2) columns and 0 (-8) elements\n",
      "Empty problem - 0 rows, 0 columns and 0 elements\n",
      "Optimal - objective value 16.818182\n",
      "After Postsolve, objective 16.818182, infeasibilities - dual 0 (0), primal 0 (0)\n",
      "Optimal objective 16.81818182 - 0 iterations time 0.002, Presolve 0.00\n",
      "Option for printingOptions changed from normal to all\n",
      "Total time (CPU seconds):       0.00   (Wallclock seconds):       0.00\n",
      "\n",
      "status: 1, Optimal\n",
      "objective: 16.8181817\n",
      "x: 7.7272727\n",
      "y: 4.5454545\n",
      "red_constraint: -9.99999993922529e-08\n",
      "blue_constraint: 18.181818300000003\n",
      "yellow_constraint: 3.3636362999999996\n",
      "green_constraint: -2.0000000233721948e-07\n"
     ]
    }
   ],
   "source": [
    "# Solve the problem\n",
    "status = model.solve()\n",
    "\n",
    "print(f\"status: {model.status}, {LpStatus[model.status]}\")\n",
    "print(f\"objective: {model.objective.value()}\")\n",
    "\n",
    "for var in model.variables():\n",
    "  print(f\"{var.name}: {var.value()}\")\n",
    "\n",
    "# Values\n",
    "for name, constraint in model.constraints.items():\n",
    "  print(f\"{name}: {constraint.value()}\")"
   ]
  },
  {
   "cell_type": "code",
   "execution_count": null,
   "metadata": {},
   "outputs": [],
   "source": []
  },
  {
   "cell_type": "code",
   "execution_count": null,
   "metadata": {},
   "outputs": [],
   "source": []
  }
 ],
 "metadata": {
  "kernelspec": {
   "display_name": "Python 3",
   "language": "python",
   "name": "python3"
  },
  "language_info": {
   "codemirror_mode": {
    "name": "ipython",
    "version": 3
   },
   "file_extension": ".py",
   "mimetype": "text/x-python",
   "name": "python",
   "nbconvert_exporter": "python",
   "pygments_lexer": "ipython3",
   "version": "3.8.10"
  }
 },
 "nbformat": 4,
 "nbformat_minor": 2
}
