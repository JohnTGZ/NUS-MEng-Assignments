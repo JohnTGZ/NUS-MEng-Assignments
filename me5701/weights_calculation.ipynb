{
 "cells": [
  {
   "cell_type": "code",
   "execution_count": 1,
   "metadata": {},
   "outputs": [
    {
     "name": "stdout",
     "output_type": "stream",
     "text": [
      "Cost c_0:  57*a**2 - 255*a*b/4 + 258*a*c/7 - 21*a*d + 66*a*e/5 + 129*b**2/7 - 21*b*c + 66*b*d/5 - 15*b*e/2 + 33*c**2/5 - 15*c*d/2 + 6*c*e + 3*d**2 - 3*d*e + 3*e**2\n",
      "Cost c_1:  a*(a*W[0, 0] + b*W[1, 0] + c*W[2, 0] + d*W[3, 0] + e*W[4, 0]) + b*(a*W[0, 1] + b*W[1, 1] + c*W[2, 1] + d*W[3, 1] + e*W[4, 1]) + c*(a*W[0, 2] + b*W[1, 2] + c*W[2, 2] + d*W[3, 2] + e*W[4, 2]) + d*(a*W[0, 3] + b*W[1, 3] + c*W[2, 3] + d*W[3, 3] + e*W[4, 3]) + e*(a*W[0, 4] + b*W[1, 4] + c*W[2, 4] + d*W[3, 4] + e*W[4, 4])\n"
     ]
    }
   ],
   "source": [
    "import sympy as sym\n",
    "from sympy import symbols, integrate, Matrix, MatrixSymbol, Eq, solve\n",
    "from sympy import init_printing\n",
    "init_printing(use_unicode=True) \n",
    "\n",
    "# Can do `expand` or `factor`\n",
    "# Calculus: `diff` or `integrate`\n",
    "\n",
    "a, b, c, d, e, x  = symbols('a, b, c, d, e, x')\n",
    "\n",
    "# Get equation c_0\n",
    "g_x = a*(x**4) + b*(x**3) + c*(x**2) + d*(x) + e\n",
    "c_0 = integrate(g_x**2, (x, -2, 1))\n",
    "print(\"Cost c_0: \",  c_0)\n",
    "\n",
    "# Get equation c_1\n",
    "# Form x matrix and weights matrix\n",
    "x_mat = Matrix([[a, b, c, d, e]])\n",
    "W = MatrixSymbol('W', 5, 5).as_explicit()\n",
    "\n",
    "c_1 = x_mat * W * x_mat.transpose()\n",
    "print(\"Cost c_1: \",  c_1[0])\n",
    "\n",
    "c_0_poly = sym.poly(c_0, a, b, c, d, e)\n",
    "c_1_poly = sym.poly(c_1[0], a, b, c, d, e)"
   ]
  },
  {
   "cell_type": "code",
   "execution_count": 7,
   "metadata": {},
   "outputs": [
    {
     "name": "stdout",
     "output_type": "stream",
     "text": [
      "Matrix([[W[0, 0] - 57], [W[0, 1] + W[1, 0] + 255/4], [W[0, 2] + W[2, 0] - 258/7], [W[0, 3] + W[3, 0] + 21], [W[0, 4] + W[4, 0] - 66/5], [W[1, 1] - 129/7], [W[1, 2] + W[2, 1] + 21], [W[1, 3] + W[3, 1] - 66/5], [W[1, 4] + W[4, 1] + 15/2], [W[2, 2] - 33/5], [W[2, 3] + W[3, 2] + 15/2], [W[2, 4] + W[4, 2] - 6], [W[3, 3] - 3], [W[3, 4] + W[4, 3] + 3], [W[4, 4] - 3]])\n",
      "Is W positive definite?  True\n"
     ]
    }
   ],
   "source": [
    "\n",
    "# Get all coefficients in array form\n",
    "c_0_coeffs = c_0_poly.coeffs()\n",
    "c_1_coeffs = c_1_poly.coeffs()\n",
    "\n",
    "# Construst system of linear equations\n",
    "W_sys_eqns = Matrix(c_1_coeffs) - Matrix(c_0_coeffs) \n",
    "\n",
    "# Solve system of linear equations\n",
    "solve(W_sys_eqns, c_1_coeffs, dict=True)\n",
    "\n",
    "print(W_sys_eqns)\n",
    "\n",
    "W = Matrix([\n",
    "  [57,      -255/8,   129/7,    -21/2,    33/5],\n",
    "  [-255/8,  129/7,    -21/2,    33/5,     -15/4,],\n",
    "  [129/7,   -21/2,    33/5,     -15/4,    3],\n",
    "  [-21/2,    33/5,    -15/4,     3,       -3/2],\n",
    "  [33/5,    -15/4,    3,        -3/2,     3],\n",
    "])\n",
    "\n",
    "print(\"Is W positive definite? \", W.is_positive_definite)\n"
   ]
  }
 ],
 "metadata": {
  "kernelspec": {
   "display_name": "Python 3",
   "language": "python",
   "name": "python3"
  },
  "language_info": {
   "codemirror_mode": {
    "name": "ipython",
    "version": 3
   },
   "file_extension": ".py",
   "mimetype": "text/x-python",
   "name": "python",
   "nbconvert_exporter": "python",
   "pygments_lexer": "ipython3",
   "version": "3.8.10"
  },
  "orig_nbformat": 4
 },
 "nbformat": 4,
 "nbformat_minor": 2
}
